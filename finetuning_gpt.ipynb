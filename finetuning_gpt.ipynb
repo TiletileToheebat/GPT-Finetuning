{
 "cells": [
  {
   "cell_type": "markdown",
   "metadata": {},
   "source": [
    "# FINETUNING - Model Training\n",
    "\n",
    "Fine-tuning is a process of adapting a pre-trained model to a specific task by training it on a smaller, task-specific dataset. Fine-tuning GPT for text generation involves adjusting the model’s weights so it can produce relevant and coherent text outputs for a given prompt.\n",
    "\n",
    "is notebook documents the process of **fine-tuning a GPT model** to specialize in answering questions about **Ikorodu scholarships**. The goal is to create an AI model that provides **accurate, relevant, and up-to-date** information on available scholarships, eligibility criteria, and application processes. \n",
    " \n",
    "## Fine-Tuning Process  \n",
    "1. **Dataset Preparation** – Collected and curated scholarship-related data specific to Ikorodu.  \n",
    "2. **Data Formatting** – Structured the data into OpenAI’s fine-tuning format (JSONL).  \n",
    "3. **Model Training** – Used OpenAI’s fine-tuning API to adapt GPT to the scholarship domain.  \n",
    "4. **Evaluation & Testing** – Assessed model performance using sample queries.  \n",
    "5. **Optimization** – Adjusted hyperparameters, models and refined the dataset for improved accuracy.  \n",
    "\n",
    "This notebook contains all the key steps taken to **fine-tune and evaluate** the model using OpenAI's finetuning API.  \n"
   ]
  },
  {
   "cell_type": "markdown",
   "metadata": {},
   "source": [
    "# Install dependencies"
   ]
  },
  {
   "cell_type": "code",
   "execution_count": 7,
   "metadata": {},
   "outputs": [
    {
     "data": {
      "text/plain": [
       "True"
      ]
     },
     "execution_count": 7,
     "metadata": {},
     "output_type": "execute_result"
    }
   ],
   "source": [
    "import os\n",
    "from dotenv import load_dotenv\n",
    "load_dotenv()"
   ]
  },
  {
   "cell_type": "code",
   "execution_count": 8,
   "metadata": {},
   "outputs": [],
   "source": [
    "os.environ['OPENAI_API_KEY'] = os.getenv('OPENAI_API_KEY')"
   ]
  },
  {
   "cell_type": "code",
   "execution_count": 9,
   "metadata": {},
   "outputs": [],
   "source": [
    "from openai import OpenAI"
   ]
  },
  {
   "cell_type": "code",
   "execution_count": 10,
   "metadata": {},
   "outputs": [],
   "source": [
    "client = OpenAI()"
   ]
  },
  {
   "cell_type": "markdown",
   "metadata": {},
   "source": [
    "# TESTING THE BASE MODEL"
   ]
  },
  {
   "cell_type": "code",
   "execution_count": 12,
   "metadata": {},
   "outputs": [
    {
     "data": {
      "text/plain": [
       "'Yes, you can apply for the IKODASS scholarship regardless of your location, as long as you meet the eligibility criteria specified by the IKODASS scholarship program. Make sure to review the specific requirements and guidelines provided by IKODASS to determine if you qualify for the scholarship.'"
      ]
     },
     "execution_count": 12,
     "metadata": {},
     "output_type": "execute_result"
    }
   ],
   "source": [
    "OgaScholar = client.chat.completions.create(\n",
    "    model = \"gpt-3.5-turbo\",\n",
    "    messages = [\n",
    "        {\"role\": \"system\", \"content\": \"You are a helpful assistant.\"},\n",
    "        {\"role\": \"user\", \"content\": \"I'm from Abeokuta, can i apply for IKODASS scholarship?\"},\n",
    "    ]\n",
    ")\n",
    "\n",
    "OgaScholar.choices[0].message.content"
   ]
  },
  {
   "cell_type": "markdown",
   "metadata": {},
   "source": [
    "## FINE TUNING"
   ]
  },
  {
   "cell_type": "code",
   "execution_count": 37,
   "metadata": {},
   "outputs": [
    {
     "name": "stdout",
     "output_type": "stream",
     "text": [
      "FileObject(id='file-2Z9jSYVFdxFvrF1BNsAfUS', bytes=8555, created_at=1741348502, filename='ikorodu_scholarship.jsonl', object='file', purpose='fine-tune', status='processed', expires_at=None, status_details=None)\n"
     ]
    }
   ],
   "source": [
    "import openai\n",
    "response = openai.files.create(\n",
    "    file=open(\"ikorodu_scholarship.jsonl\", \"rb\"),\n",
    "    purpose=\"fine-tune\"\n",
    ")\n",
    "\n",
    "print(response)"
   ]
  },
  {
   "cell_type": "code",
   "execution_count": 38,
   "metadata": {},
   "outputs": [
    {
     "name": "stdout",
     "output_type": "stream",
     "text": [
      "FineTuningJob(id='ftjob-kqSTLdT7qZDLBXMwKc1boMiJ', created_at=1741348523, error=Error(code=None, message=None, param=None), fine_tuned_model=None, finished_at=None, hyperparameters=Hyperparameters(batch_size='auto', learning_rate_multiplier='auto', n_epochs='auto'), model='gpt-4o-2024-08-06', object='fine_tuning.job', organization_id='org-o9FsB3CxwUlYPqpAyqiGW1xI', result_files=[], seed=1243452803, status='validating_files', trained_tokens=None, training_file='file-2Z9jSYVFdxFvrF1BNsAfUS', validation_file=None, estimated_finish=None, integrations=[], metadata=None, method=Method(dpo=None, supervised=MethodSupervised(hyperparameters=MethodSupervisedHyperparameters(batch_size='auto', learning_rate_multiplier='auto', n_epochs='auto')), type='supervised'), user_provided_suffix=None)\n"
     ]
    }
   ],
   "source": [
    "fine_tune_response = client.fine_tuning.jobs.create(\n",
    "    training_file=\"file-2Z9jSYVFdxFvrF1BNsAfUS\",\n",
    "    model=\"gpt-4o-2024-08-06\"\n",
    ")\n",
    "\n",
    "print(fine_tune_response)"
   ]
  },
  {
   "cell_type": "code",
   "execution_count": 39,
   "metadata": {},
   "outputs": [
    {
     "name": "stdout",
     "output_type": "stream",
     "text": [
      "FineTuningJob(id='ftjob-kqSTLdT7qZDLBXMwKc1boMiJ', created_at=1741348523, error=Error(code=None, message=None, param=None), fine_tuned_model=None, finished_at=None, hyperparameters=Hyperparameters(batch_size='auto', learning_rate_multiplier='auto', n_epochs='auto'), model='gpt-4o-2024-08-06', object='fine_tuning.job', organization_id='org-o9FsB3CxwUlYPqpAyqiGW1xI', result_files=[], seed=1243452803, status='validating_files', trained_tokens=None, training_file='file-2Z9jSYVFdxFvrF1BNsAfUS', validation_file=None, estimated_finish=None, integrations=[], metadata=None, method=Method(dpo=None, supervised=MethodSupervised(hyperparameters=MethodSupervisedHyperparameters(batch_size='auto', learning_rate_multiplier='auto', n_epochs='auto')), type='supervised'), user_provided_suffix=None)\n"
     ]
    }
   ],
   "source": [
    "print(fine_tune_response)"
   ]
  },
  {
   "cell_type": "code",
   "execution_count": 54,
   "metadata": {},
   "outputs": [
    {
     "name": "stdout",
     "output_type": "stream",
     "text": [
      "Fine-tuned model ID: ft:gpt-4o-2024-08-06:personal::B8QmIcnz\n",
      "Fine-tuned model ID: ft:gpt-4o-2024-08-06:personal::B8QIDV0l\n",
      "Fine-tuned model ID: ft:gpt-4o-2024-08-06:personal::B8QIuNqY\n",
      "Fine-tuned model ID: ft:gpt-4o-2024-08-06:personal::B8QH5Zf1\n",
      "Fine-tuned model ID: ft:gpt-3.5-turbo-0125:personal::B8QBqURx\n",
      "Fine-tuned model ID: ft:gpt-3.5-turbo-0125:personal::B8PJKsGD\n",
      "Fine-tuned model ID: ft:gpt-3.5-turbo-0125:personal::B8PIJWKL\n"
     ]
    }
   ],
   "source": [
    "# List fine-tuning jobs\n",
    "fine_tune_jobs = openai.fine_tuning.jobs.list(limit=10)\n",
    "\n",
    "# Extract fine-tuned model names\n",
    "for job in fine_tune_jobs.data:\n",
    "    if job.fine_tuned_model:  # Ensure it's completed\n",
    "        print(\"Fine-tuned model ID:\", job.fine_tuned_model)\n"
   ]
  },
  {
   "cell_type": "markdown",
   "metadata": {},
   "source": [
    "## USING THE FINE TUNED MODEL"
   ]
  },
  {
   "cell_type": "code",
   "execution_count": 12,
   "metadata": {},
   "outputs": [],
   "source": [
    "#creating function to get response\n",
    "def get_oga_scholar_response(user_input):\n",
    "    response = client.chat.completions.create(\n",
    "        model = \"ft:gpt-4o-2024-08-06:personal::B8QmIcnz\",\n",
    "        messages = [\n",
    "            {\"role\": \"system\", \"content\": \"You are an advisor for ikorodu students on scholarship available for ikorodu indigene  and resident only\"},\n",
    "            {\"role\": \"user\", \"content\": user_input},\n",
    "        ]\n",
    "    )\n",
    "    return response.choices[0].message"
   ]
  },
  {
   "cell_type": "code",
   "execution_count": 26,
   "metadata": {},
   "outputs": [
    {
     "name": "stdout",
     "output_type": "stream",
     "text": [
      "The IKODASS Scholarship is specifically for Ikorodu indigenes and residents. You may not be eligible if you're from Abeokuta.\n"
     ]
    }
   ],
   "source": [
    "user_input = \"I'm from Abeokuta, can i apply for IKODASS scholarship??\"\n",
    "answer = get_oga_scholar_response(user_input)\n",
    "print(answer.content)\n"
   ]
  },
  {
   "cell_type": "code",
   "execution_count": 27,
   "metadata": {},
   "outputs": [
    {
     "name": "stdout",
     "output_type": "stream",
     "text": [
      "Hi there! How can I assist you with scholarships in Ikorodu?\n"
     ]
    }
   ],
   "source": [
    "user_input = \"Hello??\"\n",
    "answer = get_oga_scholar_response(user_input)\n",
    "print(answer.content)"
   ]
  },
  {
   "cell_type": "code",
   "execution_count": 29,
   "metadata": {},
   "outputs": [
    {
     "name": "stdout",
     "output_type": "stream",
     "text": [
      "In Ikorodu, most scholarships have a minimum CGPA requirement of 3.0. Scholarships are for Ikorodu indigenes and residents and may require a LGA identification letter. Here are some scholarships you might find useful: \n",
      "\n",
      "### Ikorodu Division Peace Initiative Foundation (IDPIF) Scholarship\n",
      "- **Eligibility**: Open to students in Ikorodu including full-time undergraduates with a minimum CGPA of 3.0.\n",
      "  \n",
      "### Ijede LCDA Scholarship\n",
      "- **Eligibility**: For Indigenes of Ijede LCDA with at least a CGPA of 3.0.\n",
      "\n",
      "### Oriwu Club Scholarship\n",
      "- **Eligibility**: Open to Ikorodu indigenes, focusing on academic merit (usually CGPA of 4.0 and above) and financial need.\n",
      "\n",
      "### Lagos State Scholarship Board (LSSB)\n",
      "- **Eligibility**: Open to Lagos State indigenes, requires a minimum CGPA of 3.5. (Separate from Ikorodu-specific scholarships, but noteworthy).\n",
      "\n",
      "These scholarships may include academic merit, financial need, and interviews. Each has specific requirements, so ensure you meet eligibility criteria before applying. Let me know if you need further details!\n"
     ]
    }
   ],
   "source": [
    "user_input = \"My cgpa is 3.0. I don't if there is any scholarship that i can apply for in Ikorodu? and can you list the available scholarships for Ikorodu students?\"\n",
    "answer = get_oga_scholar_response(user_input)\n",
    "print(answer.content)"
   ]
  },
  {
   "cell_type": "code",
   "execution_count": 30,
   "metadata": {},
   "outputs": [
    {
     "name": "stdout",
     "output_type": "stream",
     "text": [
      "Yes, Applisso offers scholarships to Ikorodu indigenes and residents. Would you like more details on their eligibility and application process?\n"
     ]
    }
   ],
   "source": [
    "user_input = \"do you know applisso?\"\n",
    "answer = get_oga_scholar_response(user_input)\n",
    "print(answer.content)"
   ]
  }
 ],
 "metadata": {
  "kernelspec": {
   "display_name": "Python 3",
   "language": "python",
   "name": "python3"
  },
  "language_info": {
   "codemirror_mode": {
    "name": "ipython",
    "version": 3
   },
   "file_extension": ".py",
   "mimetype": "text/x-python",
   "name": "python",
   "nbconvert_exporter": "python",
   "pygments_lexer": "ipython3",
   "version": "3.10.16"
  }
 },
 "nbformat": 4,
 "nbformat_minor": 2
}
